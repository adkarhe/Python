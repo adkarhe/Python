{
 "cells": [
  {
   "cell_type": "code",
   "execution_count": 1,
   "metadata": {},
   "outputs": [],
   "source": [
    "from selenium import webdriver\n",
    "from selenium.webdriver.common.keys import Keys"
   ]
  },
  {
   "cell_type": "code",
   "execution_count": 3,
   "metadata": {},
   "outputs": [],
   "source": [
    "# create a new Firefox session\n",
    "driver = webdriver.Firefox(executable_path='./geckodriver')\n",
    "driver.implicitly_wait(30)\n",
    "driver.maximize_window()"
   ]
  },
  {
   "cell_type": "code",
   "execution_count": 4,
   "metadata": {},
   "outputs": [],
   "source": [
    "# navigate to the application home page\n",
    "driver.get(\"http://www.google.com\")"
   ]
  },
  {
   "cell_type": "code",
   "execution_count": 5,
   "metadata": {},
   "outputs": [],
   "source": [
    "# get the search textbox\n",
    "search_field = driver.find_element_by_id(\"lst-ib\")\n",
    "search_field.clear()"
   ]
  },
  {
   "cell_type": "code",
   "execution_count": 6,
   "metadata": {},
   "outputs": [],
   "source": [
    "# enter search keyword and submit\n",
    "search_field.send_keys(\"Selenium WebDriver Interview questions\")\n",
    "search_field.submit()"
   ]
  },
  {
   "cell_type": "code",
   "execution_count": 7,
   "metadata": {},
   "outputs": [],
   "source": [
    "# get the list of elements which are displayed after the search\n",
    "# currently on result page using find_elements_by_class_name  method\n",
    "lists= driver.find_elements_by_class_name(\"_Rm\")"
   ]
  },
  {
   "cell_type": "code",
   "execution_count": 11,
   "metadata": {},
   "outputs": [
    {
     "name": "stdout",
     "output_type": "stream",
     "text": [
      "Found 11searches:\n"
     ]
    }
   ],
   "source": [
    "# get the number of elements found\n",
    "print(\"Found \" + str(len(lists)) + \"searches:\")"
   ]
  },
  {
   "cell_type": "code",
   "execution_count": 13,
   "metadata": {},
   "outputs": [
    {
     "name": "stdout",
     "output_type": "stream",
     "text": [
      "www.softwaretestinghelp.com/selenium-interview-questions-answers/\n",
      "https://www.guru99.com/top-100-selenium-interview-questions-answers.html\n",
      "www.softwaretestinghelp.com/selenium-interview-questions-answers/\n",
      "toolsqa.com › Selenium-Webdriver\n",
      "toolsqa.com › Selenium-Webdriver\n",
      "https://www.testingexcellence.com/selenium-interview-questions-answers-examples/\n",
      "artoftesting.com/interviewSection/selenium-interview-questions.html\n",
      "www.softwaretestingmaterial.com › Selenium\n",
      "https://www.simplilearn.com/selenium-interview-questions-and-answers-article\n",
      "https://intellipaat.com/interview-question/selenium-interview-questions/\n",
      "www.techbeamers.com/selenium-webdriver-questions/\n"
     ]
    }
   ],
   "source": [
    "# iterate through each element and print the text that is\n",
    "# name of the search\n",
    "\n",
    "i=0\n",
    "for listitem in lists:\n",
    "   print(listitem.text)\n",
    "   i=i+1\n",
    "   if(i>10):\n",
    "      break\n",
    "\n",
    "# close the browser window\n",
    "# driver.quit()"
   ]
  },
  {
   "cell_type": "code",
   "execution_count": null,
   "metadata": {},
   "outputs": [],
   "source": []
  }
 ],
 "metadata": {
  "kernelspec": {
   "display_name": "Python 3",
   "language": "python",
   "name": "python3"
  },
  "language_info": {
   "codemirror_mode": {
    "name": "ipython",
    "version": 3
   },
   "file_extension": ".py",
   "mimetype": "text/x-python",
   "name": "python",
   "nbconvert_exporter": "python",
   "pygments_lexer": "ipython3",
   "version": "3.6.3"
  }
 },
 "nbformat": 4,
 "nbformat_minor": 2
}
