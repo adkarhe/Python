{
 "cells": [
  {
   "cell_type": "code",
   "execution_count": null,
   "metadata": {},
   "outputs": [],
   "source": [
    "from selenium import webdriver\n",
    "import time\n",
    "import csv\n",
    "\n",
    "driver = webdriver.Firefox(executable_path='./geckodriver')\n",
    "\n",
    "driver.get('https://twitter.com/realDonaldTrump')\n",
    "\n",
    "\n",
    "# while True:\n",
    "#     driver.execute_script(\"window.scrollTo(0, document.body.scrollHeight)\")\n",
    "\n",
    "SCROLL_PAUSE_TIME = 2\n",
    "# Get scroll height\n",
    "last_height = driver.execute_script(\"return document.body.scrollHeight\")\n",
    "print(\"Last Height 1\", last_height) # Testing purpose comment\n",
    "\n",
    "while True:\n",
    "    # Scroll down to bottom\n",
    "    driver.execute_script(\"window.scrollTo(0, document.body.scrollHeight);\")\n",
    "\n",
    "    # Wait to load page\n",
    "    time.sleep(SCROLL_PAUSE_TIME)\n",
    "\n",
    "    print(\"Last Height 2\", last_height) # Testing purpose comment\n",
    "\n",
    "    # Calculate new scroll height and compare with last scroll height\n",
    "    new_height = driver.execute_script(\"return document.body.scrollHeight\")\n",
    "\n",
    "    print(\"New Height\", new_height) # Testing purpose comment\n",
    "\n",
    "\n",
    "    if new_height == last_height:\n",
    "        break\n",
    "\n",
    "    last_height = new_height\n",
    "\n",
    "    tweets = driver.find_elements_by_class_name(\"tweet-text\")\n",
    "\n",
    "    for tweet in tweets:\n",
    "        tweet = tweet.text\n",
    "\n",
    "        saveFile = open('tweets.csv', 'a')\n",
    "        saveFile.write(tweet)\n",
    "        saveFile.write('\\n')\n",
    "        saveFile.close()\n"
   ]
  }
 ],
 "metadata": {
  "kernelspec": {
   "display_name": "Python 3",
   "language": "python",
   "name": "python3"
  },
  "language_info": {
   "codemirror_mode": {
    "name": "ipython",
    "version": 3
   },
   "file_extension": ".py",
   "mimetype": "text/x-python",
   "name": "python",
   "nbconvert_exporter": "python",
   "pygments_lexer": "ipython3",
   "version": "3.6.3"
  }
 },
 "nbformat": 4,
 "nbformat_minor": 2
}
